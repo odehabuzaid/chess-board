{
 "cells": [
  {
   "cell_type": "code",
   "execution_count": 378,
   "metadata": {},
   "outputs": [],
   "source": [
    "import numpy as np\n",
    "import matplotlib.pyplot as plt"
   ]
  },
  {
   "cell_type": "code",
   "execution_count": 379,
   "metadata": {},
   "outputs": [],
   "source": [
    "class Board:\n",
    "    def __init__(self):\n",
    "        self.grid = np.zeros((8,8,3))\n",
    "        self.queenz = {'red':{'row':0,'col':0},'blue':{'row':0,'col':0}}\n",
    "        for row in range(8):      \n",
    "            for col in range(8):  \n",
    "                if (not col % 2 and not row % 2 ) or (col % 2 and row % 2):\n",
    "                    self.grid[row,col] = (.9,.9,.9)\n",
    "    \n",
    "    def render (self):\n",
    "        plt.imshow(self.grid)\n",
    "    def add_red(self, row, col,color):\n",
    "        self.grid[row,col] = color\n",
    "        self.queenz[\"red\"][\"row\"] = row\n",
    "        self.queenz[\"red\"][\"col\"] = col\n",
    "        \n",
    "    \n",
    "    def add_attack_queen(self, row, col,color):\n",
    "        self.grid[row,col] = color\n",
    "        self.queenz[\"blue\"][\"row\"] = row\n",
    "        self.queenz[\"blue\"][\"col\"] = col\n",
    "        \n",
    "    def is_under_attack(self):\n",
    "        if abs(self.queenz[\"red\"][\"row\"] - self.queenz[\"blue\"][\"row\"] ) == abs(self.queenz[\"red\"][\"col\"] - self.queenz[\"blue\"][\"col\"]):\n",
    "            return True\n",
    "        else:\n",
    "            return True if (self.queenz[\"blue\"][\"row\"] is self.queenz[\"red\"][\"row\"]) or (self.queenz[\"blue\"][\"col\"] is self.queenz[\"red\"][\"col\"]) else False \n"
   ]
  },
  {
   "cell_type": "markdown",
   "metadata": {},
   "source": [
    "**<ins> Test**\n",
    "\n",
    "- [x] queens on same row should be “under attack”\n",
    "- [x] queens on same column should be “under attack”\n",
    "- [x] queens on same diagonal should be “under attack”\n",
    "- [x] queens with any other coordinates should NOT be “under attack”"
   ]
  },
  {
   "cell_type": "code",
   "execution_count": 380,
   "metadata": {},
   "outputs": [],
   "source": [
    "# queens on same row should be “under attack”\n",
    "board = Board()\n",
    "board.add_attack_queen(6,2,(0,1,1) )\n",
    "board.add_red(6,3,(1,.2,0))\n",
    "assert board.is_under_attack() == True\n",
    "# queens on same column should be “under attack”\n",
    "board.add_attack_queen(1,3,(0,1,0) )\n",
    "assert board.is_under_attack() == True\n",
    "# queens on same diagonal should be “under attack”\n",
    "\n",
    "board.add_attack_queen(2,2,(0,0,1) )\n",
    "\n",
    "assert board.is_under_attack() == False\n",
    "# queens with any other coordinates should NOT be “under attack”\n",
    "\n",
    "board.add_attack_queen(3,4,(3,5,0) )\n",
    "\n",
    "assert board.is_under_attack() == False\n"
   ]
  },
  {
   "cell_type": "code",
   "execution_count": 381,
   "metadata": {},
   "outputs": [
    {
     "name": "stderr",
     "output_type": "stream",
     "text": [
      "Clipping input data to the valid range for imshow with RGB data ([0..1] for floats or [0..255] for integers).\n"
     ]
    },
    {
     "data": {
      "image/png": "[encoded data removed]",
      "text/plain": [
       "<Figure size 432x288 with 1 Axes>"
      ]
     },
     "metadata": {
      "needs_background": "light"
     },
     "output_type": "display_data"
    }
   ],
   "source": [
    "board.render()"
   ]
  }
 ],
 "metadata": {
  "interpreter": {
   "hash": "b9341b6e37dcaf93427e6df0caeba6a41e914580b250e8780e7689a25f0efcb1"
  },
  "kernelspec": {
   "display_name": "Python 3.9.7 64-bit ('-SNfpu_4o': venv)",
   "name": "python3"
  },
  "language_info": {
   "codemirror_mode": {
    "name": "ipython",
    "version": 3
   },
   "file_extension": ".py",
   "mimetype": "text/x-python",
   "name": "python",
   "nbconvert_exporter": "python",
   "pygments_lexer": "ipython3",
   "version": "3.9.7"
  },
  "orig_nbformat": 4
 },
 "nbformat": 4,
 "nbformat_minor": 2
}
